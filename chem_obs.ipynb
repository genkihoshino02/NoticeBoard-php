{
  "nbformat": 4,
  "nbformat_minor": 0,
  "metadata": {
    "colab": {
      "name": "chem_obs.ipynb",
      "provenance": [],
      "collapsed_sections": [],
      "mount_file_id": "16nSamMCZpbQJ2uKmaDRn9moyv2-zBWTZ",
      "authorship_tag": "ABX9TyP9rfNmohkLBj2D/CsGvFuV",
      "include_colab_link": true
    },
    "kernelspec": {
      "name": "python3",
      "display_name": "Python 3"
    },
    "language_info": {
      "name": "python"
    },
    "accelerator": "GPU"
  },
  "cells": [
    {
      "cell_type": "markdown",
      "metadata": {
        "id": "view-in-github",
        "colab_type": "text"
      },
      "source": [
        "<a href=\"https://colab.research.google.com/github/genkihoshino02/NoticeBoard-php/blob/master/chem_obs.ipynb\" target=\"_parent\"><img src=\"https://colab.research.google.com/assets/colab-badge.svg\" alt=\"Open In Colab\"/></a>"
      ]
    },
    {
      "cell_type": "code",
      "metadata": {
        "colab": {
          "base_uri": "https://localhost:8080/"
        },
        "id": "rvAQ3udAaywF",
        "outputId": "33184044-94df-49b2-dc7d-059b7b8abd6a"
      },
      "source": [
        "!pip install dgllife networkx dgl-cu110 rdkit-pypi torch"
      ],
      "execution_count": 20,
      "outputs": [
        {
          "output_type": "stream",
          "text": [
            "Requirement already satisfied: dgllife in /usr/local/lib/python3.7/dist-packages (0.2.8)\n",
            "Requirement already satisfied: networkx in /usr/local/lib/python3.7/dist-packages (2.5.1)\n",
            "Requirement already satisfied: dgl-cu110 in /usr/local/lib/python3.7/dist-packages (0.6.1)\n",
            "Requirement already satisfied: rdkit-pypi in /usr/local/lib/python3.7/dist-packages (2021.3.3)\n",
            "Requirement already satisfied: torch in /usr/local/lib/python3.7/dist-packages (1.9.0+cu102)\n",
            "Requirement already satisfied: scipy>=1.1.0 in /usr/local/lib/python3.7/dist-packages (from dgllife) (1.4.1)\n",
            "Requirement already satisfied: scikit-learn>=0.22.2 in /usr/local/lib/python3.7/dist-packages (from dgllife) (0.22.2.post1)\n",
            "Requirement already satisfied: hyperopt in /usr/local/lib/python3.7/dist-packages (from dgllife) (0.1.2)\n",
            "Requirement already satisfied: pandas in /usr/local/lib/python3.7/dist-packages (from dgllife) (1.1.5)\n",
            "Requirement already satisfied: numpy>=1.14.0 in /usr/local/lib/python3.7/dist-packages (from dgllife) (1.19.5)\n",
            "Requirement already satisfied: tqdm in /usr/local/lib/python3.7/dist-packages (from dgllife) (4.41.1)\n",
            "Requirement already satisfied: requests>=2.22.0 in /usr/local/lib/python3.7/dist-packages (from dgllife) (2.23.0)\n",
            "Requirement already satisfied: joblib in /usr/local/lib/python3.7/dist-packages (from dgllife) (1.0.1)\n",
            "Requirement already satisfied: decorator<5,>=4.3 in /usr/local/lib/python3.7/dist-packages (from networkx) (4.4.2)\n",
            "Requirement already satisfied: typing-extensions in /usr/local/lib/python3.7/dist-packages (from torch) (3.7.4.3)\n",
            "Requirement already satisfied: future in /usr/local/lib/python3.7/dist-packages (from hyperopt->dgllife) (0.16.0)\n",
            "Requirement already satisfied: six in /usr/local/lib/python3.7/dist-packages (from hyperopt->dgllife) (1.15.0)\n",
            "Requirement already satisfied: pymongo in /usr/local/lib/python3.7/dist-packages (from hyperopt->dgllife) (3.11.4)\n",
            "Requirement already satisfied: pytz>=2017.2 in /usr/local/lib/python3.7/dist-packages (from pandas->dgllife) (2018.9)\n",
            "Requirement already satisfied: python-dateutil>=2.7.3 in /usr/local/lib/python3.7/dist-packages (from pandas->dgllife) (2.8.1)\n",
            "Requirement already satisfied: certifi>=2017.4.17 in /usr/local/lib/python3.7/dist-packages (from requests>=2.22.0->dgllife) (2021.5.30)\n",
            "Requirement already satisfied: chardet<4,>=3.0.2 in /usr/local/lib/python3.7/dist-packages (from requests>=2.22.0->dgllife) (3.0.4)\n",
            "Requirement already satisfied: urllib3!=1.25.0,!=1.25.1,<1.26,>=1.21.1 in /usr/local/lib/python3.7/dist-packages (from requests>=2.22.0->dgllife) (1.24.3)\n",
            "Requirement already satisfied: idna<3,>=2.5 in /usr/local/lib/python3.7/dist-packages (from requests>=2.22.0->dgllife) (2.10)\n"
          ],
          "name": "stdout"
        }
      ]
    },
    {
      "cell_type": "code",
      "metadata": {
        "colab": {
          "base_uri": "https://localhost:8080/"
        },
        "id": "sYG4HAXcbCJH",
        "outputId": "55be8e55-6175-498e-cf97-96a8d48274ae"
      },
      "source": [
        "import dgl\n",
        "import numpy as np\n",
        "import networkx as nx\n",
        "from dgllife.utils import smiles_to_complete_graph\n",
        "import torch\n",
        "from rdkit import Chem\n",
        "from dgllife.utils import smiles_to_bigraph, CanonicalAtomFeaturizer, CanonicalBondFeaturizer\n",
        "from functools import partial\n",
        "import pandas as pd\n",
        "import random\n",
        "\n",
        "device = torch.device(\"cuda:0\" if torch.cuda.is_available() else \"cpu\")\n",
        "df=pd.read_csv(\"/content/drive/MyDrive/Research/Python/Codes/code-Jun 24/data/data.csv\")\n",
        "# Node featurizer\n",
        "featurize_atoms = CanonicalAtomFeaturizer(atom_data_field='h')\n",
        "# Edge featurizer\n",
        "featurize_bonds = CanonicalBondFeaturizer(bond_data_field='h')\n",
        "\n",
        "add_self_loop = True\n",
        "\n",
        "dataset=[]\n",
        "\n",
        "for i in range(len(df)):    \n",
        "    smiles=df['構造 (CD)'][i]\n",
        "    \n",
        "    graph= smiles_to_bigraph(\n",
        "       df['構造 (CD)'][i], node_featurizer=featurize_atoms,edge_featurizer=featurize_bonds\n",
        "       )\n",
        "    if graph==None:\n",
        "        graph= smiles_to_bigraph(\n",
        "           df[\"入力構造\"][i], node_featurizer=featurize_atoms,edge_featurizer=featurize_bonds\n",
        "           )\n",
        "    if graph!=None:\n",
        "        smiles=df['構造 (CD)'][i]\n",
        "    else:\n",
        "        smiles=df[\"入力構造\"][i]\n",
        "    \n",
        "    label=torch.tensor([df[\"変化物\"][i]], dtype=torch.long).to(device)\n",
        "    if graph!=None and smiles!=None:\n",
        "        pair=(smiles,graph.to(device),label)\n",
        "        dataset.append(pair)\n",
        "        \n",
        "        \n",
        "        \n",
        "dataset_label_one=[]\n",
        "dataset_label_zero=[]\n",
        "for d in dataset:\n",
        "    if d[2]==1:\n",
        "        dataset_label_one.append(d)\n",
        "    elif d[2]==0:\n",
        "        dataset_label_zero.append(d)\n",
        "print(\"[1]\",len(dataset_label_one))\n",
        "print(\"[0]\",len(dataset_label_zero))\n",
        "dataset=dataset+dataset_label_one*4+dataset_label_zero*1\n",
        "\n",
        "random.seed(10070)\n",
        "random.shuffle(dataset)\n",
        "\n",
        "dataset=tuple(dataset)"
      ],
      "execution_count": 21,
      "outputs": [
        {
          "output_type": "stream",
          "text": [
            "Invalid mol found\n",
            "Invalid mol found\n",
            "Invalid mol found\n",
            "Invalid mol found\n",
            "Invalid mol found\n",
            "Invalid mol found\n",
            "Invalid mol found\n",
            "Invalid mol found\n",
            "Invalid mol found\n",
            "Invalid mol found\n",
            "Invalid mol found\n",
            "Invalid mol found\n",
            "Invalid mol found\n",
            "Invalid mol found\n",
            "Invalid mol found\n",
            "Invalid mol found\n",
            "Invalid mol found\n",
            "Invalid mol found\n",
            "Invalid mol found\n",
            "Invalid mol found\n",
            "Invalid mol found\n",
            "Invalid mol found\n",
            "Invalid mol found\n",
            "Invalid mol found\n",
            "Invalid mol found\n",
            "Invalid mol found\n",
            "Invalid mol found\n",
            "Invalid mol found\n",
            "Invalid mol found\n",
            "Invalid mol found\n",
            "Invalid mol found\n",
            "Invalid mol found\n",
            "Invalid mol found\n",
            "Invalid mol found\n",
            "Invalid mol found\n",
            "Invalid mol found\n",
            "Invalid mol found\n",
            "Invalid mol found\n",
            "Invalid mol found\n",
            "Invalid mol found\n",
            "Invalid mol found\n",
            "Invalid mol found\n",
            "Invalid mol found\n",
            "Invalid mol found\n",
            "Invalid mol found\n",
            "Invalid mol found\n",
            "Invalid mol found\n",
            "Invalid mol found\n",
            "Invalid mol found\n",
            "Invalid mol found\n",
            "Invalid mol found\n",
            "Invalid mol found\n",
            "Invalid mol found\n",
            "Invalid mol found\n",
            "Invalid mol found\n",
            "Invalid mol found\n",
            "Invalid mol found\n",
            "Invalid mol found\n",
            "Invalid mol found\n",
            "Invalid mol found\n",
            "Invalid mol found\n",
            "Invalid mol found\n",
            "[1] 941\n",
            "[0] 2314\n"
          ],
          "name": "stdout"
        }
      ]
    },
    {
      "cell_type": "code",
      "metadata": {
        "colab": {
          "base_uri": "https://localhost:8080/",
          "height": 658
        },
        "id": "Xc57_iNlhfeU",
        "outputId": "65634ab9-8ccc-4869-920d-ebfd02120232"
      },
      "source": [
        "cnt_1=0\n",
        "cnt_0=0\n",
        "for i in range(len(dataset)):\n",
        "    if dataset[i][2]==1:\n",
        "        cnt_1+=1\n",
        "    elif dataset[i][2]==0:\n",
        "        cnt_0+=1\n",
        "\n",
        "print(\"[1]\",cnt_1)\n",
        "print(\"[0]\",cnt_0)\n",
        "\n",
        "s,g,l=dataset[10][0],dataset[10][1],dataset[10][2]\n",
        "print(s,g,l)\n",
        "\n",
        "def visualize(s,g):\n",
        "    import networkx as nx\n",
        "    import dgl\n",
        "    import matplotlib.pyplot as plt\n",
        "    print(\"---------visualization of molecular--------------\")\n",
        "    nx.draw(dgl.to_networkx(g.cpu()),with_labels=True)\n",
        "    #Molecular structure\n",
        "    from rdkit import Chem\n",
        "    from rdkit.Chem import Draw\n",
        "    size = (120, 120)\n",
        "\n",
        "    fig = Draw.MolToMPL(Chem.MolFromSmiles(s), size=size)\n",
        "visualize(dataset[15][0],dataset[15][1])"
      ],
      "execution_count": 22,
      "outputs": [
        {
          "output_type": "stream",
          "text": [
            "[1] 4705\n",
            "[0] 4628\n",
            "CC1=NC2=C(C=C1)C=C(S(=O)(O)=O)C=C2N(C3=O)C(C4=C3C(Cl)=C(Cl)C(Cl)=C4Cl)=O Graph(num_nodes=30, num_edges=66,\n",
            "      ndata_schemes={'h': Scheme(shape=(74,), dtype=torch.float32)}\n",
            "      edata_schemes={'h': Scheme(shape=(12,), dtype=torch.float32)}) tensor([1], device='cuda:0')\n",
            "---------visualization of molecular--------------\n"
          ],
          "name": "stdout"
        },
        {
          "output_type": "display_data",
          "data": {
            "image/png": "[encoded data removed]",
            "text/plain": [
              "<Figure size 432x288 with 1 Axes>"
            ]
          },
          "metadata": {
            "tags": []
          }
        },
        {
          "output_type": "display_data",
          "data": {
            "image/png": "[encoded data removed]",
            "text/plain": [
              "<Figure size 86.4x86.4 with 1 Axes>"
            ]
          },
          "metadata": {
            "tags": [],
            "needs_background": "light"
          }
        }
      ]
    },
    {
      "cell_type": "markdown",
      "metadata": {
        "id": "GToRqGAmfoZ8"
      },
      "source": [
        "define functions"
      ]
    },
    {
      "cell_type": "code",
      "metadata": {
        "id": "64QXe9Bc5sU3"
      },
      "source": [
        "s=[]\n",
        "g=[]\n",
        "l=[]\n",
        "for d in dataset:\n",
        "  if d[0]!=None:\n",
        "    s.append(d[0])\n",
        "    g.append(d[1])\n",
        "    l.append(d[2])\n",
        "    \n",
        "fragments_dict={\n",
        "    \"amide\":Fragments.fr_amide,\n",
        "    \"ester\":Fragments.fr_ester,\n",
        "    \"carboxylic acids\":Fragments.fr_COO,\n",
        "    \"aldehydes\":Fragments.fr_aldehyde\n",
        "}\n",
        "\n",
        "from rdkit.Chem import Fragments\n",
        "def examine_num_frag(fr_x):\n",
        "  def inner():\n",
        "    max_n=0\n",
        "    for i in range(len(s)):\n",
        "      m=Chem.MolFromSmiles(s[i])\n",
        "      if m!=None and fr_x(m)>=max_n:\n",
        "        max_n=fr_x(m)\n",
        "\n",
        "    frag_n=[0]*(max_n+1)\n",
        "    none_data=0\n",
        "  \n",
        "    for i in range(len(s)):\n",
        "      eter_num_each=0\n",
        "      m=Chem.MolFromSmiles(s[i])\n",
        "      if m!=None:\n",
        "        frag_n[fr_x(m)]+=1\n",
        "      else:\n",
        "        none_data+=1\n",
        "    return frag_n\n",
        "  return inner\n",
        "\n",
        "def graph_visualize_fragment(frag_list):\n",
        "  fig = plt.figure()\n",
        "  ax = fig.add_subplot(1,1,1)\n",
        "\n",
        "  n = list(np.arange(0,len(frag_list)))\n",
        "  ax.bar(n,frag_list,color=\"r\")\n",
        "\n",
        "  plt.show()\n"
      ],
      "execution_count": 78,
      "outputs": []
    },
    {
      "cell_type": "code",
      "metadata": {
        "id": "uYposQzDcDYu"
      },
      "source": [
        ""
      ],
      "execution_count": null,
      "outputs": []
    },
    {
      "cell_type": "markdown",
      "metadata": {
        "id": "gYkKW_YS4QhF"
      },
      "source": [
        "aromatic ring"
      ]
    },
    {
      "cell_type": "code",
      "metadata": {
        "id": "JKEGkROJiQVl"
      },
      "source": [
        "def isRingAromatic(mol, bondRing):\n",
        "  for id in bondRing:\n",
        "      if not mol.GetBondWithIdx(id).GetIsAromatic():\n",
        "          return False\n",
        "  return True\n",
        "\n",
        "aromatic_n=[0]*22\n",
        "none_ring=0\n",
        "for i in s:\n",
        "  n_rings=0\n",
        "  m=Chem.MolFromSmiles(i)\n",
        "  if m!=None:\n",
        "    ri=m.GetRingInfo()\n",
        "    for k in range(len(ri.BondRings())):\n",
        "      if isRingAromatic(m,ri.BondRings()[k]):\n",
        "        n_rings+=1\n",
        "  else:\n",
        "    none_ring+=1\n",
        "  if none_ring!=1:\n",
        "    aromatic_n[n_rings]+=1"
      ],
      "execution_count": 83,
      "outputs": []
    },
    {
      "cell_type": "code",
      "metadata": {
        "colab": {
          "base_uri": "https://localhost:8080/",
          "height": 264
        },
        "id": "lxWLEk-7kSE5",
        "outputId": "05668c72-939d-4025-bda8-a78b84d694d6"
      },
      "source": [
        "fig = plt.figure()\n",
        "ax = fig.add_subplot(1,1,1)\n",
        "\n",
        "ring_n = list(np.arange(0,22))\n",
        "ax.bar(ring_n,aromatic_n,color=\"r\")\n",
        "\n",
        "plt.show()"
      ],
      "execution_count": 84,
      "outputs": [
        {
          "output_type": "display_data",
          "data": {
            "image/png": "[encoded data removed]",
            "text/plain": [
              "<Figure size 432x288 with 1 Axes>"
            ]
          },
          "metadata": {
            "tags": [],
            "needs_background": "light"
          }
        }
      ]
    },
    {
      "cell_type": "code",
      "metadata": {
        "colab": {
          "base_uri": "https://localhost:8080/"
        },
        "id": "3z6nd7jTjbki",
        "outputId": "25f5bb81-e2b5-4fd0-cf1f-feaa0a2caa41"
      },
      "source": [
        "import dgl.function as fn\n",
        "import torch\n",
        "import torch.nn as nn\n",
        "import dgl\n",
        "import torch.nn.functional as F\n",
        "def collate(samples):\n",
        "    # The input `samples` is a list of pairs\n",
        "    #  (graph, label).\n",
        "    smiles,graphs, labels = map(list, zip(*samples))\n",
        "    batched_graph = dgl.batch(graphs)\n",
        "    return batched_graph, torch.tensor(labels)\n",
        "\n",
        "# Sends a message of node feature h.\n",
        "msg = fn.copy_src(src='h', out='m')\n",
        "\n",
        "def reduce(nodes):\n",
        "    \"\"\"Take an average over all neighbor node features hu and use it to\n",
        "    overwrite the original node feature.\"\"\"\n",
        "    accum = torch.mean(nodes.mailbox['m'], 1)\n",
        "    return {'h': accum}\n",
        "\n",
        "class NodeApplyModule(nn.Module):\n",
        "    \"\"\"Update the node feature hv with ReLU(Whv+b).\"\"\"\n",
        "    def __init__(self, in_feats, out_feats, activation):\n",
        "        super(NodeApplyModule, self).__init__()\n",
        "        self.linear = nn.Linear(in_feats, out_feats)\n",
        "        self.activation = activation\n",
        "\n",
        "    def forward(self, node):\n",
        "        h = self.linear(node.data['h'])\n",
        "        h = self.activation(h)\n",
        "        return {'h' : h}\n",
        "\n",
        "class GCN(nn.Module):\n",
        "    def __init__(self, in_feats, out_feats, activation):\n",
        "        super(GCN, self).__init__()\n",
        "        self.apply_mod = NodeApplyModule(in_feats, out_feats, activation)\n",
        "\n",
        "    def forward(self, g, feature):\n",
        "        # Initialize the node features with h.\n",
        "        g.ndata['h'] = feature\n",
        "        g.update_all(msg, reduce)\n",
        "        g.apply_nodes(func=self.apply_mod)\n",
        "        return g.ndata.pop('h')\n",
        "    \n",
        "class Classifier(nn.Module):\n",
        "    def __init__(self, in_dim, hidden_dim, n_classes):\n",
        "        super(Classifier, self).__init__()\n",
        "        self.layers = nn.ModuleList([\n",
        "            GCN(in_dim, hidden_dim, F.relu),\n",
        "            GCN(hidden_dim, hidden_dim, F.relu),\n",
        "            GCN(hidden_dim, hidden_dim, F.relu)])\n",
        "        self.classify = nn.Linear(hidden_dim, n_classes)\n",
        "        \n",
        "    def forward(self, g):\n",
        "        # For undirected graphs, in_degree is the same as\n",
        "        # out_degree.\n",
        "        h = g.in_degrees().view(-1, 1).float()\n",
        "        for conv in self.layers:\n",
        "            h = conv(g, h)\n",
        "        g.ndata['h'] = h\n",
        "        hg = dgl.mean_nodes(g, 'h')\n",
        "        return self.classify(hg)\n",
        "    \n",
        "    \n",
        "from torch.utils.data import DataLoader\n",
        "# Create training and test sets.\n",
        "trainset = dataset[:6533]\n",
        "validset=dataset[6533:7460]\n",
        "testset=dataset[7460:]\n",
        "data_loader_train = DataLoader(trainset, batch_size=32, shuffle=True,\n",
        "                         collate_fn=collate)\n",
        "data_loader_valid = DataLoader(validset, batch_size=32, shuffle=True,\n",
        "                         collate_fn=collate)\n",
        "data_loader_test = DataLoader(testset, batch_size=32, shuffle=True,\n",
        "                         collate_fn=collate)\n",
        "smiles,test_X, test_Y = map(list, zip(*testset))\n",
        "\n",
        "import torch.optim as optim\n",
        "model = Classifier(1, 512, 2).to(device)\n",
        "loss_func = nn.CrossEntropyLoss()\n",
        "optimizer = optim.Adam(model.parameters(), lr=0.001)\n",
        "print(model)"
      ],
      "execution_count": null,
      "outputs": [
        {
          "output_type": "stream",
          "text": [
            "Classifier(\n",
            "  (layers): ModuleList(\n",
            "    (0): GCN(\n",
            "      (apply_mod): NodeApplyModule(\n",
            "        (linear): Linear(in_features=1, out_features=512, bias=True)\n",
            "      )\n",
            "    )\n",
            "    (1): GCN(\n",
            "      (apply_mod): NodeApplyModule(\n",
            "        (linear): Linear(in_features=512, out_features=512, bias=True)\n",
            "      )\n",
            "    )\n",
            "    (2): GCN(\n",
            "      (apply_mod): NodeApplyModule(\n",
            "        (linear): Linear(in_features=512, out_features=512, bias=True)\n",
            "      )\n",
            "    )\n",
            "  )\n",
            "  (classify): Linear(in_features=512, out_features=2, bias=True)\n",
            ")\n"
          ],
          "name": "stdout"
        }
      ]
    },
    {
      "cell_type": "code",
      "metadata": {
        "colab": {
          "base_uri": "https://localhost:8080/",
          "height": 423
        },
        "id": "_stknyYAjwvQ",
        "outputId": "4a030188-d941-46a5-f09c-fad1905882d3"
      },
      "source": [
        "min_valid_loss = np.inf\n",
        "train_losses = list()\n",
        "train_accuracy=list()\n",
        "valid_losses=list()\n",
        "valid_accuracy=list()\n",
        "epoch_n=100\n",
        "\n",
        "correct_train=0\n",
        "total_train=0\n",
        "\n",
        "for epoch in range(epoch_n):\n",
        "    train_loss = 0.0\n",
        "    epoch_steps=0\n",
        "    model.train()\n",
        "    for iter, (bg, label) in enumerate(data_loader_train):\n",
        "        optimizer.zero_grad()\n",
        "        prediction = model(bg.to(device))\n",
        "        loss = loss_func(prediction, label.to(device))\n",
        "        loss.backward()\n",
        "        optimizer.step()\n",
        "        train_loss += loss.detach().item()\n",
        "        epoch_steps+=1\n",
        "        \n",
        "        _, predicted = torch.max(prediction.data, 1)\n",
        "        correct_train += (predicted.to(device) == label.to(device)).sum().item() \n",
        "        total_train+=label.size(0)\n",
        "    \n",
        "    \n",
        "    valid_loss=0\n",
        "    val_steps = 0\n",
        "    total=0\n",
        "    correct=0\n",
        "    model.eval()\n",
        "    for iter,(bg,label) in enumerate(data_loader_valid):\n",
        "        with torch.no_grad():\n",
        "            target=model(bg.to(device))\n",
        "            _, predicted = torch.max(target.data, 1)\n",
        "            total += label.to(device).size(0)\n",
        "            correct += (predicted.to(device) == label.to(device)).sum().item() \n",
        "                \n",
        "                \n",
        "                \n",
        "            loss=loss_func(target.to(device),label.to(device))\n",
        "            valid_loss+=loss.detach().item()\n",
        "            val_steps+=1\n",
        "                     \n",
        "                \n",
        "                \n",
        "    print(f\"Epoch{epoch+1} -Loss:{train_loss/len(data_loader_train)} -Acc:{correct_train/total_train} -Val Loss:{valid_loss/len(data_loader_valid)} -Val Acc:{correct/total} \")\n",
        "    train_losses.append(train_loss/len(data_loader_train))\n",
        "    train_accuracy.append(correct_train/total_train)\n",
        "    valid_losses.append(valid_loss/len(data_loader_valid))\n",
        "    valid_accuracy.append(correct/total)\n",
        "    if min_valid_loss>valid_loss:\n",
        "        print(f'Validation Loss Decreased()')\n",
        "        print(f'Validation Loss Decreased({min_valid_loss:.6f}--->{valid_loss:.6f}) \\t Saving The Model')\n",
        "        min_valid_loss = valid_loss\n",
        "            # Saving State Dict\n",
        "        torch.save(model.state_dict(), 'saved_model.pth')\n",
        "    \n",
        "        print(\"-----------------------------------------------------------------------------------------------------------------------\")\n",
        "    "
      ],
      "execution_count": null,
      "outputs": [
        {
          "output_type": "error",
          "ename": "KeyboardInterrupt",
          "evalue": "ignored",
          "traceback": [
            "\u001b[0;31m---------------------------------------------------------------------------\u001b[0m",
            "\u001b[0;31mKeyboardInterrupt\u001b[0m                         Traceback (most recent call last)",
            "\u001b[0;32m<ipython-input-15-cd4ad7b847d7>\u001b[0m in \u001b[0;36m<module>\u001b[0;34m()\u001b[0m\n\u001b[1;32m     15\u001b[0m     \u001b[0;32mfor\u001b[0m \u001b[0miter\u001b[0m\u001b[0;34m,\u001b[0m \u001b[0;34m(\u001b[0m\u001b[0mbg\u001b[0m\u001b[0;34m,\u001b[0m \u001b[0mlabel\u001b[0m\u001b[0;34m)\u001b[0m \u001b[0;32min\u001b[0m \u001b[0menumerate\u001b[0m\u001b[0;34m(\u001b[0m\u001b[0mdata_loader_train\u001b[0m\u001b[0;34m)\u001b[0m\u001b[0;34m:\u001b[0m\u001b[0;34m\u001b[0m\u001b[0;34m\u001b[0m\u001b[0m\n\u001b[1;32m     16\u001b[0m         \u001b[0moptimizer\u001b[0m\u001b[0;34m.\u001b[0m\u001b[0mzero_grad\u001b[0m\u001b[0;34m(\u001b[0m\u001b[0;34m)\u001b[0m\u001b[0;34m\u001b[0m\u001b[0;34m\u001b[0m\u001b[0m\n\u001b[0;32m---> 17\u001b[0;31m         \u001b[0mprediction\u001b[0m \u001b[0;34m=\u001b[0m \u001b[0mmodel\u001b[0m\u001b[0;34m(\u001b[0m\u001b[0mbg\u001b[0m\u001b[0;34m.\u001b[0m\u001b[0mto\u001b[0m\u001b[0;34m(\u001b[0m\u001b[0mdevice\u001b[0m\u001b[0;34m)\u001b[0m\u001b[0;34m)\u001b[0m\u001b[0;34m\u001b[0m\u001b[0;34m\u001b[0m\u001b[0m\n\u001b[0m\u001b[1;32m     18\u001b[0m         \u001b[0mloss\u001b[0m \u001b[0;34m=\u001b[0m \u001b[0mloss_func\u001b[0m\u001b[0;34m(\u001b[0m\u001b[0mprediction\u001b[0m\u001b[0;34m,\u001b[0m \u001b[0mlabel\u001b[0m\u001b[0;34m.\u001b[0m\u001b[0mto\u001b[0m\u001b[0;34m(\u001b[0m\u001b[0mdevice\u001b[0m\u001b[0;34m)\u001b[0m\u001b[0;34m)\u001b[0m\u001b[0;34m\u001b[0m\u001b[0;34m\u001b[0m\u001b[0m\n\u001b[1;32m     19\u001b[0m         \u001b[0mloss\u001b[0m\u001b[0;34m.\u001b[0m\u001b[0mbackward\u001b[0m\u001b[0;34m(\u001b[0m\u001b[0;34m)\u001b[0m\u001b[0;34m\u001b[0m\u001b[0;34m\u001b[0m\u001b[0m\n",
            "\u001b[0;32m/usr/local/lib/python3.7/dist-packages/torch/nn/modules/module.py\u001b[0m in \u001b[0;36m_call_impl\u001b[0;34m(self, *input, **kwargs)\u001b[0m\n\u001b[1;32m   1049\u001b[0m         if not (self._backward_hooks or self._forward_hooks or self._forward_pre_hooks or _global_backward_hooks\n\u001b[1;32m   1050\u001b[0m                 or _global_forward_hooks or _global_forward_pre_hooks):\n\u001b[0;32m-> 1051\u001b[0;31m             \u001b[0;32mreturn\u001b[0m \u001b[0mforward_call\u001b[0m\u001b[0;34m(\u001b[0m\u001b[0;34m*\u001b[0m\u001b[0minput\u001b[0m\u001b[0;34m,\u001b[0m \u001b[0;34m**\u001b[0m\u001b[0mkwargs\u001b[0m\u001b[0;34m)\u001b[0m\u001b[0;34m\u001b[0m\u001b[0;34m\u001b[0m\u001b[0m\n\u001b[0m\u001b[1;32m   1052\u001b[0m         \u001b[0;31m# Do not call functions when jit is used\u001b[0m\u001b[0;34m\u001b[0m\u001b[0;34m\u001b[0m\u001b[0;34m\u001b[0m\u001b[0m\n\u001b[1;32m   1053\u001b[0m         \u001b[0mfull_backward_hooks\u001b[0m\u001b[0;34m,\u001b[0m \u001b[0mnon_full_backward_hooks\u001b[0m \u001b[0;34m=\u001b[0m \u001b[0;34m[\u001b[0m\u001b[0;34m]\u001b[0m\u001b[0;34m,\u001b[0m \u001b[0;34m[\u001b[0m\u001b[0;34m]\u001b[0m\u001b[0;34m\u001b[0m\u001b[0;34m\u001b[0m\u001b[0m\n",
            "\u001b[0;32m<ipython-input-14-3b0a91b5f539>\u001b[0m in \u001b[0;36mforward\u001b[0;34m(self, g)\u001b[0m\n\u001b[1;32m     58\u001b[0m         \u001b[0mh\u001b[0m \u001b[0;34m=\u001b[0m \u001b[0mg\u001b[0m\u001b[0;34m.\u001b[0m\u001b[0min_degrees\u001b[0m\u001b[0;34m(\u001b[0m\u001b[0;34m)\u001b[0m\u001b[0;34m.\u001b[0m\u001b[0mview\u001b[0m\u001b[0;34m(\u001b[0m\u001b[0;34m-\u001b[0m\u001b[0;36m1\u001b[0m\u001b[0;34m,\u001b[0m \u001b[0;36m1\u001b[0m\u001b[0;34m)\u001b[0m\u001b[0;34m.\u001b[0m\u001b[0mfloat\u001b[0m\u001b[0;34m(\u001b[0m\u001b[0;34m)\u001b[0m\u001b[0;34m\u001b[0m\u001b[0;34m\u001b[0m\u001b[0m\n\u001b[1;32m     59\u001b[0m         \u001b[0;32mfor\u001b[0m \u001b[0mconv\u001b[0m \u001b[0;32min\u001b[0m \u001b[0mself\u001b[0m\u001b[0;34m.\u001b[0m\u001b[0mlayers\u001b[0m\u001b[0;34m:\u001b[0m\u001b[0;34m\u001b[0m\u001b[0;34m\u001b[0m\u001b[0m\n\u001b[0;32m---> 60\u001b[0;31m             \u001b[0mh\u001b[0m \u001b[0;34m=\u001b[0m \u001b[0mconv\u001b[0m\u001b[0;34m(\u001b[0m\u001b[0mg\u001b[0m\u001b[0;34m,\u001b[0m \u001b[0mh\u001b[0m\u001b[0;34m)\u001b[0m\u001b[0;34m\u001b[0m\u001b[0;34m\u001b[0m\u001b[0m\n\u001b[0m\u001b[1;32m     61\u001b[0m         \u001b[0mg\u001b[0m\u001b[0;34m.\u001b[0m\u001b[0mndata\u001b[0m\u001b[0;34m[\u001b[0m\u001b[0;34m'h'\u001b[0m\u001b[0;34m]\u001b[0m \u001b[0;34m=\u001b[0m \u001b[0mh\u001b[0m\u001b[0;34m\u001b[0m\u001b[0;34m\u001b[0m\u001b[0m\n\u001b[1;32m     62\u001b[0m         \u001b[0mhg\u001b[0m \u001b[0;34m=\u001b[0m \u001b[0mdgl\u001b[0m\u001b[0;34m.\u001b[0m\u001b[0mmean_nodes\u001b[0m\u001b[0;34m(\u001b[0m\u001b[0mg\u001b[0m\u001b[0;34m,\u001b[0m \u001b[0;34m'h'\u001b[0m\u001b[0;34m)\u001b[0m\u001b[0;34m\u001b[0m\u001b[0;34m\u001b[0m\u001b[0m\n",
            "\u001b[0;32m/usr/local/lib/python3.7/dist-packages/torch/nn/modules/module.py\u001b[0m in \u001b[0;36m_call_impl\u001b[0;34m(self, *input, **kwargs)\u001b[0m\n\u001b[1;32m   1049\u001b[0m         if not (self._backward_hooks or self._forward_hooks or self._forward_pre_hooks or _global_backward_hooks\n\u001b[1;32m   1050\u001b[0m                 or _global_forward_hooks or _global_forward_pre_hooks):\n\u001b[0;32m-> 1051\u001b[0;31m             \u001b[0;32mreturn\u001b[0m \u001b[0mforward_call\u001b[0m\u001b[0;34m(\u001b[0m\u001b[0;34m*\u001b[0m\u001b[0minput\u001b[0m\u001b[0;34m,\u001b[0m \u001b[0;34m**\u001b[0m\u001b[0mkwargs\u001b[0m\u001b[0;34m)\u001b[0m\u001b[0;34m\u001b[0m\u001b[0;34m\u001b[0m\u001b[0m\n\u001b[0m\u001b[1;32m   1052\u001b[0m         \u001b[0;31m# Do not call functions when jit is used\u001b[0m\u001b[0;34m\u001b[0m\u001b[0;34m\u001b[0m\u001b[0;34m\u001b[0m\u001b[0m\n\u001b[1;32m   1053\u001b[0m         \u001b[0mfull_backward_hooks\u001b[0m\u001b[0;34m,\u001b[0m \u001b[0mnon_full_backward_hooks\u001b[0m \u001b[0;34m=\u001b[0m \u001b[0;34m[\u001b[0m\u001b[0;34m]\u001b[0m\u001b[0;34m,\u001b[0m \u001b[0;34m[\u001b[0m\u001b[0;34m]\u001b[0m\u001b[0;34m\u001b[0m\u001b[0;34m\u001b[0m\u001b[0m\n",
            "\u001b[0;32m<ipython-input-14-3b0a91b5f539>\u001b[0m in \u001b[0;36mforward\u001b[0;34m(self, g, feature)\u001b[0m\n\u001b[1;32m     40\u001b[0m         \u001b[0;31m# Initialize the node features with h.\u001b[0m\u001b[0;34m\u001b[0m\u001b[0;34m\u001b[0m\u001b[0;34m\u001b[0m\u001b[0m\n\u001b[1;32m     41\u001b[0m         \u001b[0mg\u001b[0m\u001b[0;34m.\u001b[0m\u001b[0mndata\u001b[0m\u001b[0;34m[\u001b[0m\u001b[0;34m'h'\u001b[0m\u001b[0;34m]\u001b[0m \u001b[0;34m=\u001b[0m \u001b[0mfeature\u001b[0m\u001b[0;34m\u001b[0m\u001b[0;34m\u001b[0m\u001b[0m\n\u001b[0;32m---> 42\u001b[0;31m         \u001b[0mg\u001b[0m\u001b[0;34m.\u001b[0m\u001b[0mupdate_all\u001b[0m\u001b[0;34m(\u001b[0m\u001b[0mmsg\u001b[0m\u001b[0;34m,\u001b[0m \u001b[0mreduce\u001b[0m\u001b[0;34m)\u001b[0m\u001b[0;34m\u001b[0m\u001b[0;34m\u001b[0m\u001b[0m\n\u001b[0m\u001b[1;32m     43\u001b[0m         \u001b[0mg\u001b[0m\u001b[0;34m.\u001b[0m\u001b[0mapply_nodes\u001b[0m\u001b[0;34m(\u001b[0m\u001b[0mfunc\u001b[0m\u001b[0;34m=\u001b[0m\u001b[0mself\u001b[0m\u001b[0;34m.\u001b[0m\u001b[0mapply_mod\u001b[0m\u001b[0;34m)\u001b[0m\u001b[0;34m\u001b[0m\u001b[0;34m\u001b[0m\u001b[0m\n\u001b[1;32m     44\u001b[0m         \u001b[0;32mreturn\u001b[0m \u001b[0mg\u001b[0m\u001b[0;34m.\u001b[0m\u001b[0mndata\u001b[0m\u001b[0;34m.\u001b[0m\u001b[0mpop\u001b[0m\u001b[0;34m(\u001b[0m\u001b[0;34m'h'\u001b[0m\u001b[0;34m)\u001b[0m\u001b[0;34m\u001b[0m\u001b[0;34m\u001b[0m\u001b[0m\n",
            "\u001b[0;32m/usr/local/lib/python3.7/dist-packages/dgl/heterograph.py\u001b[0m in \u001b[0;36mupdate_all\u001b[0;34m(self, message_func, reduce_func, apply_node_func, etype)\u001b[0m\n\u001b[1;32m   4684\u001b[0m         \u001b[0m_\u001b[0m\u001b[0;34m,\u001b[0m \u001b[0mdtid\u001b[0m \u001b[0;34m=\u001b[0m \u001b[0mself\u001b[0m\u001b[0;34m.\u001b[0m\u001b[0m_graph\u001b[0m\u001b[0;34m.\u001b[0m\u001b[0mmetagraph\u001b[0m\u001b[0;34m.\u001b[0m\u001b[0mfind_edge\u001b[0m\u001b[0;34m(\u001b[0m\u001b[0metid\u001b[0m\u001b[0;34m)\u001b[0m\u001b[0;34m\u001b[0m\u001b[0;34m\u001b[0m\u001b[0m\n\u001b[1;32m   4685\u001b[0m         \u001b[0mg\u001b[0m \u001b[0;34m=\u001b[0m \u001b[0mself\u001b[0m \u001b[0;32mif\u001b[0m \u001b[0metype\u001b[0m \u001b[0;32mis\u001b[0m \u001b[0;32mNone\u001b[0m \u001b[0;32melse\u001b[0m \u001b[0mself\u001b[0m\u001b[0;34m[\u001b[0m\u001b[0metype\u001b[0m\u001b[0;34m]\u001b[0m\u001b[0;34m\u001b[0m\u001b[0;34m\u001b[0m\u001b[0m\n\u001b[0;32m-> 4686\u001b[0;31m         \u001b[0mndata\u001b[0m \u001b[0;34m=\u001b[0m \u001b[0mcore\u001b[0m\u001b[0;34m.\u001b[0m\u001b[0mmessage_passing\u001b[0m\u001b[0;34m(\u001b[0m\u001b[0mg\u001b[0m\u001b[0;34m,\u001b[0m \u001b[0mmessage_func\u001b[0m\u001b[0;34m,\u001b[0m \u001b[0mreduce_func\u001b[0m\u001b[0;34m,\u001b[0m \u001b[0mapply_node_func\u001b[0m\u001b[0;34m)\u001b[0m\u001b[0;34m\u001b[0m\u001b[0;34m\u001b[0m\u001b[0m\n\u001b[0m\u001b[1;32m   4687\u001b[0m         \u001b[0mself\u001b[0m\u001b[0;34m.\u001b[0m\u001b[0m_set_n_repr\u001b[0m\u001b[0;34m(\u001b[0m\u001b[0mdtid\u001b[0m\u001b[0;34m,\u001b[0m \u001b[0mALL\u001b[0m\u001b[0;34m,\u001b[0m \u001b[0mndata\u001b[0m\u001b[0;34m)\u001b[0m\u001b[0;34m\u001b[0m\u001b[0;34m\u001b[0m\u001b[0m\n\u001b[1;32m   4688\u001b[0m \u001b[0;34m\u001b[0m\u001b[0m\n",
            "\u001b[0;32m/usr/local/lib/python3.7/dist-packages/dgl/core.py\u001b[0m in \u001b[0;36mmessage_passing\u001b[0;34m(g, mfunc, rfunc, afunc)\u001b[0m\n\u001b[1;32m    296\u001b[0m         \u001b[0;32melse\u001b[0m\u001b[0;34m:\u001b[0m\u001b[0;34m\u001b[0m\u001b[0;34m\u001b[0m\u001b[0m\n\u001b[1;32m    297\u001b[0m             \u001b[0morig_nid\u001b[0m \u001b[0;34m=\u001b[0m \u001b[0mg\u001b[0m\u001b[0;34m.\u001b[0m\u001b[0mdstdata\u001b[0m\u001b[0;34m.\u001b[0m\u001b[0mget\u001b[0m\u001b[0;34m(\u001b[0m\u001b[0mNID\u001b[0m\u001b[0;34m,\u001b[0m \u001b[0;32mNone\u001b[0m\u001b[0;34m)\u001b[0m\u001b[0;34m\u001b[0m\u001b[0;34m\u001b[0m\u001b[0m\n\u001b[0;32m--> 298\u001b[0;31m             \u001b[0mndata\u001b[0m \u001b[0;34m=\u001b[0m \u001b[0minvoke_udf_reduce\u001b[0m\u001b[0;34m(\u001b[0m\u001b[0mg\u001b[0m\u001b[0;34m,\u001b[0m \u001b[0mrfunc\u001b[0m\u001b[0;34m,\u001b[0m \u001b[0mmsgdata\u001b[0m\u001b[0;34m,\u001b[0m \u001b[0morig_nid\u001b[0m\u001b[0;34m=\u001b[0m\u001b[0morig_nid\u001b[0m\u001b[0;34m)\u001b[0m\u001b[0;34m\u001b[0m\u001b[0;34m\u001b[0m\u001b[0m\n\u001b[0m\u001b[1;32m    299\u001b[0m     \u001b[0;31m# apply phase\u001b[0m\u001b[0;34m\u001b[0m\u001b[0;34m\u001b[0m\u001b[0;34m\u001b[0m\u001b[0m\n\u001b[1;32m    300\u001b[0m     \u001b[0;32mif\u001b[0m \u001b[0mafunc\u001b[0m \u001b[0;32mis\u001b[0m \u001b[0;32mnot\u001b[0m \u001b[0;32mNone\u001b[0m\u001b[0;34m:\u001b[0m\u001b[0;34m\u001b[0m\u001b[0;34m\u001b[0m\u001b[0m\n",
            "\u001b[0;32m/usr/local/lib/python3.7/dist-packages/dgl/core.py\u001b[0m in \u001b[0;36minvoke_udf_reduce\u001b[0;34m(graph, func, msgdata, orig_nid)\u001b[0m\n\u001b[1;32m    133\u001b[0m         \u001b[0meid_bkt\u001b[0m \u001b[0;34m=\u001b[0m \u001b[0mF\u001b[0m\u001b[0;34m.\u001b[0m\u001b[0mzerocopy_from_numpy\u001b[0m\u001b[0;34m(\u001b[0m\u001b[0meid_bkt\u001b[0m\u001b[0;34m.\u001b[0m\u001b[0mflatten\u001b[0m\u001b[0;34m(\u001b[0m\u001b[0;34m)\u001b[0m\u001b[0;34m)\u001b[0m\u001b[0;34m\u001b[0m\u001b[0;34m\u001b[0m\u001b[0m\n\u001b[1;32m    134\u001b[0m \u001b[0;34m\u001b[0m\u001b[0m\n\u001b[0;32m--> 135\u001b[0;31m         \u001b[0mmsgdata_bkt\u001b[0m \u001b[0;34m=\u001b[0m \u001b[0mmsgdata\u001b[0m\u001b[0;34m.\u001b[0m\u001b[0msubframe\u001b[0m\u001b[0;34m(\u001b[0m\u001b[0meid_bkt\u001b[0m\u001b[0;34m)\u001b[0m\u001b[0;34m\u001b[0m\u001b[0;34m\u001b[0m\u001b[0m\n\u001b[0m\u001b[1;32m    136\u001b[0m         \u001b[0;31m# reshape all msg tensors to (num_nodes_bkt, degree, feat_size)\u001b[0m\u001b[0;34m\u001b[0m\u001b[0;34m\u001b[0m\u001b[0;34m\u001b[0m\u001b[0m\n\u001b[1;32m    137\u001b[0m         \u001b[0mmaildata\u001b[0m \u001b[0;34m=\u001b[0m \u001b[0;34m{\u001b[0m\u001b[0;34m}\u001b[0m\u001b[0;34m\u001b[0m\u001b[0;34m\u001b[0m\u001b[0m\n",
            "\u001b[0;31mKeyboardInterrupt\u001b[0m: "
          ]
        }
      ]
    },
    {
      "cell_type": "code",
      "metadata": {
        "colab": {
          "base_uri": "https://localhost:8080/",
          "height": 294
        },
        "id": "GPXj2nPsj2XF",
        "outputId": "7e62f3b1-e3eb-4fda-b90d-1ffb42a57121"
      },
      "source": [
        "\n",
        "import matplotlib.pyplot as plt\n",
        "%matplotlib inline\n",
        "fig, (ax1, ax2) = plt.subplots(1, 2)\n",
        "fig.suptitle('Model performance')\n",
        "plt.xlim([0,epoch_n])\n",
        "ax1.plot(train_losses,label=\"train\")\n",
        "ax1.plot(valid_losses,label=\"valid\")\n",
        "ax1.set_title(\"Loss\")\n",
        "ax2.plot(train_accuracy,label=\"train\")\n",
        "ax2.plot(valid_accuracy,label=\"valid\")\n",
        "ax2.set_title(\"Accuracy\")\n",
        "# plt.plot(test_losses,label=\"test\")\n",
        "plt.legend(bbox_to_anchor=(1.05, 1), loc='upper left', borderaxespad=0.)\n",
        "plt.show()"
      ],
      "execution_count": null,
      "outputs": [
        {
          "output_type": "display_data",
          "data": {
            "image/png": "[encoded data removed]",
            "text/plain": [
              "<Figure size 432x288 with 2 Axes>"
            ]
          },
          "metadata": {
            "tags": [],
            "needs_background": "light"
          }
        }
      ]
    },
    {
      "cell_type": "code",
      "metadata": {
        "id": "p5hgJNpFwu89"
      },
      "source": [
        ""
      ],
      "execution_count": null,
      "outputs": []
    }
  ]
}